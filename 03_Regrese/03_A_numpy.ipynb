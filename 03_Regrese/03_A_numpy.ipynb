{
 "cells": [
  {
   "cell_type": "markdown",
   "metadata": {},
   "source": [
    "# 1. Knihovna numpy\n",
    "knihovna pro n-rozměrná pole, komplexní matematické funkce, generátory náhodných čísel, postupy lineární algebry, Fourierovy transformace a další."
   ]
  },
  {
   "cell_type": "code",
   "execution_count": 2,
   "metadata": {
    "tags": []
   },
   "outputs": [],
   "source": [
    "import numpy as np\n",
    "import matplotlib.pyplot as plt"
   ]
  },
  {
   "cell_type": "markdown",
   "metadata": {},
   "source": [
    "## 1.1 Vytvoření pole"
   ]
  },
  {
   "cell_type": "code",
   "execution_count": 3,
   "metadata": {
    "tags": []
   },
   "outputs": [],
   "source": [
    "a = np.array([1, 2, 3])       # pole s prvky 1, 2, 3\n",
    "b = np.arange (9)             # pole od 0 do 8\n",
    "c = np.arange (1, 11, 2)      # pole od 1 do 10 po 2 [1, 3, 5, 7, 9]\n",
    "d = np.zeros ((4, 10))        # nulová matice 4x10, rozměr zadaný jako tuple\n",
    "e = np.ones ((2, 3))          # jednotkový matice 2x3\n",
    "f = np.random.rand(3, 5)      # rozměr není zadaný jako tuple \n",
    "g = np.eye(3, dtype=int)      # jednotková matice"
   ]
  },
  {
   "cell_type": "code",
   "execution_count": 4,
   "metadata": {
    "tags": []
   },
   "outputs": [
    {
     "name": "stdout",
     "output_type": "stream",
     "text": [
      "[1 2 3]\n",
      "[0 1 2 3 4 5 6 7 8]\n",
      "[1 3 5 7 9]\n",
      "[[0. 0. 0. 0. 0. 0. 0. 0. 0. 0.]\n",
      " [0. 0. 0. 0. 0. 0. 0. 0. 0. 0.]\n",
      " [0. 0. 0. 0. 0. 0. 0. 0. 0. 0.]\n",
      " [0. 0. 0. 0. 0. 0. 0. 0. 0. 0.]]\n",
      "[[1. 1. 1.]\n",
      " [1. 1. 1.]]\n",
      "[[0.84941687 0.39222536 0.15748662 0.55132926 0.9977636 ]\n",
      " [0.77219964 0.67889341 0.77671801 0.64590847 0.42937171]\n",
      " [0.8649874  0.20559597 0.26835191 0.19518127 0.56430168]]\n",
      "[[1 0 0]\n",
      " [0 1 0]\n",
      " [0 0 1]]\n"
     ]
    }
   ],
   "source": [
    "print (a)\n",
    "print (b)\n",
    "print (c)\n",
    "print (d)\n",
    "print (e)\n",
    "print (f)\n",
    "print (g)"
   ]
  },
  {
   "cell_type": "code",
   "execution_count": 5,
   "metadata": {
    "tags": []
   },
   "outputs": [
    {
     "data": {
      "text/plain": [
       "array([ 1.        ,  1.25641026,  1.51282051,  1.76923077,  2.02564103,\n",
       "        2.28205128,  2.53846154,  2.79487179,  3.05128205,  3.30769231,\n",
       "        3.56410256,  3.82051282,  4.07692308,  4.33333333,  4.58974359,\n",
       "        4.84615385,  5.1025641 ,  5.35897436,  5.61538462,  5.87179487,\n",
       "        6.12820513,  6.38461538,  6.64102564,  6.8974359 ,  7.15384615,\n",
       "        7.41025641,  7.66666667,  7.92307692,  8.17948718,  8.43589744,\n",
       "        8.69230769,  8.94871795,  9.20512821,  9.46153846,  9.71794872,\n",
       "        9.97435897, 10.23076923, 10.48717949, 10.74358974, 11.        ])"
      ]
     },
     "execution_count": 5,
     "metadata": {},
     "output_type": "execute_result"
    }
   ],
   "source": [
    "# vytvoří stejně velké intervaly\n",
    "np.linspace (1, 11, 40)              "
   ]
  },
  {
   "cell_type": "markdown",
   "metadata": {},
   "source": [
    "## 1.2 Datový typ\n",
    "Matice může obsahovat různé datové typy. Typ se definuje při vytváření.\n",
    "\n",
    "https://numpy.org/doc/stable/reference/arrays.dtypes.html"
   ]
  },
  {
   "cell_type": "code",
   "execution_count": 6,
   "metadata": {
    "tags": []
   },
   "outputs": [
    {
     "data": {
      "text/plain": [
       "dtype('int64')"
      ]
     },
     "execution_count": 6,
     "metadata": {},
     "output_type": "execute_result"
    }
   ],
   "source": [
    "np.dtype('i4')      # 32-bit signed integer\n",
    "np.dtype('f8')      # 64-bit floating-point number\n",
    "np.dtype('c16')     # 128-bit complex floating-point number\n",
    "np.dtype('S25')     # 25-length zero-terminated bytes\n",
    "np.dtype('U25')     # 25-character string\n",
    "np.dtype('uint32')  # 32-bit unsigned integer\n",
    "np.dtype('float64') # 64-bit floating-point number\n",
    "np.dtype(float)     # Python-compatible floating-point number\n",
    "np.dtype(int)       # Python-compatible integer"
   ]
  },
  {
   "cell_type": "code",
   "execution_count": 7,
   "metadata": {
    "tags": []
   },
   "outputs": [
    {
     "data": {
      "text/plain": [
       "dtype('int64')"
      ]
     },
     "execution_count": 7,
     "metadata": {},
     "output_type": "execute_result"
    }
   ],
   "source": [
    "a.dtype"
   ]
  },
  {
   "cell_type": "markdown",
   "metadata": {},
   "source": [
    "## 1.3 Základní matematické operace"
   ]
  },
  {
   "cell_type": "code",
   "execution_count": 8,
   "metadata": {
    "tags": []
   },
   "outputs": [],
   "source": [
    "h=np.linspace (1, 10, 10)"
   ]
  },
  {
   "cell_type": "code",
   "execution_count": 9,
   "metadata": {
    "tags": []
   },
   "outputs": [
    {
     "name": "stdout",
     "output_type": "stream",
     "text": [
      "[ 1.  2.  3.  4.  5.  6.  7.  8.  9. 10.]\n",
      "[ 3.  4.  5.  6.  7.  8.  9. 10. 11. 12.]\n",
      "[ 2.  4.  6.  8. 10. 12. 14. 16. 18. 20.]\n"
     ]
    }
   ],
   "source": [
    "# přičtení a násobení vektoru a skaláru\n",
    "print (h)\n",
    "print (h + 2)\n",
    "print (h * 2)"
   ]
  },
  {
   "cell_type": "markdown",
   "metadata": {},
   "source": [
    "## 1.4 Změna rozměrů pole"
   ]
  },
  {
   "cell_type": "code",
   "execution_count": 10,
   "metadata": {
    "tags": []
   },
   "outputs": [
    {
     "data": {
      "text/plain": [
       "(4, 10)"
      ]
     },
     "execution_count": 10,
     "metadata": {},
     "output_type": "execute_result"
    }
   ],
   "source": [
    "# zjištění velikosti matice\n",
    "d.shape"
   ]
  },
  {
   "cell_type": "code",
   "execution_count": 11,
   "metadata": {
    "tags": []
   },
   "outputs": [
    {
     "data": {
      "text/plain": [
       "2"
      ]
     },
     "execution_count": 11,
     "metadata": {},
     "output_type": "execute_result"
    }
   ],
   "source": [
    "# počet dimenzí\n",
    "d.ndim"
   ]
  },
  {
   "cell_type": "code",
   "execution_count": 12,
   "metadata": {
    "tags": []
   },
   "outputs": [
    {
     "name": "stdout",
     "output_type": "stream",
     "text": [
      "[0 1 2 3 4 5 6 7 8]\n",
      "[[0 1 2]\n",
      " [3 4 5]\n",
      " [6 7 8]]\n",
      "(3, 3)\n"
     ]
    }
   ],
   "source": [
    "# změna tvaru proběhne úpravou vlastností matice a nikoliv realokací dat v paměti\n",
    "print (b)\n",
    "b2 = b.reshape ((3,3))\n",
    "print (b2)\n",
    "print (b2.shape)"
   ]
  },
  {
   "cell_type": "markdown",
   "metadata": {},
   "source": [
    "##  1.5 Rozdělení matice"
   ]
  },
  {
   "cell_type": "code",
   "execution_count": 13,
   "metadata": {
    "tags": []
   },
   "outputs": [
    {
     "name": "stdout",
     "output_type": "stream",
     "text": [
      "[[0.84941687 0.39222536 0.15748662 0.55132926 0.9977636 ]\n",
      " [0.77219964 0.67889341 0.77671801 0.64590847 0.42937171]\n",
      " [0.8649874  0.20559597 0.26835191 0.19518127 0.56430168]]\n"
     ]
    }
   ],
   "source": [
    "print (f)"
   ]
  },
  {
   "cell_type": "code",
   "execution_count": 14,
   "metadata": {
    "tags": []
   },
   "outputs": [
    {
     "data": {
      "text/plain": [
       "array([0.84941687, 0.39222536, 0.15748662, 0.55132926, 0.9977636 ])"
      ]
     },
     "execution_count": 14,
     "metadata": {},
     "output_type": "execute_result"
    }
   ],
   "source": [
    "# 1 řadek\n",
    "f[0]"
   ]
  },
  {
   "cell_type": "code",
   "execution_count": 15,
   "metadata": {
    "tags": []
   },
   "outputs": [
    {
     "data": {
      "text/plain": [
       "np.float64(0.9977635976962728)"
      ]
     },
     "execution_count": 15,
     "metadata": {},
     "output_type": "execute_result"
    }
   ],
   "source": [
    "# prvek\n",
    "f[0][-1]"
   ]
  },
  {
   "cell_type": "code",
   "execution_count": 16,
   "metadata": {
    "tags": []
   },
   "outputs": [
    {
     "data": {
      "text/plain": [
       "array([0.15748662, 0.77671801, 0.26835191])"
      ]
     },
     "execution_count": 16,
     "metadata": {},
     "output_type": "execute_result"
    }
   ],
   "source": [
    "# 3. sloupec\n",
    "f[:,2]"
   ]
  },
  {
   "cell_type": "code",
   "execution_count": 17,
   "metadata": {
    "tags": []
   },
   "outputs": [
    {
     "name": "stdout",
     "output_type": "stream",
     "text": [
      "[[0.84941687 0.39222536 0.15748662 0.55132926 0.9977636 ]\n",
      " [0.77219964 0.67889341 0.77671801 0.64590847 0.42937171]\n",
      " [0.8649874  0.20559597 0.26835191 0.19518127 0.56430168]]\n",
      "[[0.84941687]\n",
      " [0.77219964]\n",
      " [0.8649874 ]]\n",
      "[[0.39222536 0.15748662 0.55132926 0.9977636 ]\n",
      " [0.67889341 0.77671801 0.64590847 0.42937171]\n",
      " [0.20559597 0.26835191 0.19518127 0.56430168]]\n"
     ]
    }
   ],
   "source": [
    "# oddělení prvního sloupce\n",
    "# [1] - dělící sloupec\n",
    "# axis=1 rozděluje podle sloupců\n",
    "f1, f2 = np.split(f, [1], axis=1)   \n",
    "print (f)   \n",
    "print (f1)\n",
    "print (f2)"
   ]
  },
  {
   "cell_type": "code",
   "execution_count": 18,
   "metadata": {
    "tags": []
   },
   "outputs": [
    {
     "name": "stdout",
     "output_type": "stream",
     "text": [
      "[[0.84941687 0.39222536 0.15748662 0.55132926 0.9977636 ]\n",
      " [0.77219964 0.67889341 0.77671801 0.64590847 0.42937171]\n",
      " [0.8649874  0.20559597 0.26835191 0.19518127 0.56430168]]\n",
      "[[0.84941687 0.39222536 0.15748662 0.55132926 0.9977636 ]]\n",
      "[[0.77219964 0.67889341 0.77671801 0.64590847 0.42937171]\n",
      " [0.8649874  0.20559597 0.26835191 0.19518127 0.56430168]]\n"
     ]
    }
   ],
   "source": [
    "# oddelení prvního řádku\n",
    "# [1] prvky nalevo budou v jedne matici, prvky napravo včetně v druhé. axis=0 rozděluje podle řádku\n",
    "f1, f2 = np.split(f, [1], axis=0)\n",
    "print (f)   \n",
    "print (f1)\n",
    "print (f2)     "
   ]
  },
  {
   "cell_type": "markdown",
   "metadata": {},
   "source": [
    "## 1.6 Maticové operace"
   ]
  },
  {
   "cell_type": "code",
   "execution_count": 19,
   "metadata": {},
   "outputs": [
    {
     "name": "stdout",
     "output_type": "stream",
     "text": [
      "[ 1.  2.  3.  4.  5.  6.  7.  8.  9. 10.]\n",
      "[11. 12. 13. 14. 15. 16. 17. 18. 19. 20.]\n",
      "[12. 14. 16. 18. 20. 22. 24. 26. 28. 30.]\n"
     ]
    }
   ],
   "source": [
    "# sečtení matic\n",
    "i=np.linspace (1, 10, 10)\n",
    "j=np.linspace (11, 20, 10)\n",
    "print (i)\n",
    "print (j)\n",
    "print (i+j)"
   ]
  },
  {
   "cell_type": "code",
   "execution_count": 20,
   "metadata": {
    "tags": []
   },
   "outputs": [
    {
     "name": "stdout",
     "output_type": "stream",
     "text": [
      "[[ 2  3  4]\n",
      " [ 5  6  7]\n",
      " [ 8  9 10]]\n",
      "[[ 5  6  7]\n",
      " [ 8  9 10]\n",
      " [11 12 13]]\n",
      "[[ 78  87  96]\n",
      " [150 168 186]\n",
      " [222 249 276]]\n"
     ]
    }
   ],
   "source": [
    "# násobení matic\n",
    "A = np.arange (2, 11)\n",
    "A = A.reshape ((3,3))\n",
    "B = np.arange (5, 14)\n",
    "B = B.reshape ((3,3))\n",
    "\n",
    "\n",
    "C=np.dot (A, B)\n",
    "print (A)\n",
    "print (B)\n",
    "print (C)"
   ]
  },
  {
   "cell_type": "markdown",
   "metadata": {},
   "source": [
    "## 1.7 Vytvoření mřížky"
   ]
  },
  {
   "cell_type": "code",
   "execution_count": 21,
   "metadata": {
    "tags": []
   },
   "outputs": [
    {
     "name": "stdout",
     "output_type": "stream",
     "text": [
      "(30, 30)\n",
      "(30, 30)\n"
     ]
    }
   ],
   "source": [
    "# meshgrid - vytvoří mřížku souřadnic mřížky zadané velikosti\n",
    "xx=np.linspace(0, 1, 30)\n",
    "yy=np.linspace(0, 1, 30)\n",
    "XX, YY = np.meshgrid (xx, yy)\n",
    "print (XX.shape)\n",
    "print (YY.shape)"
   ]
  },
  {
   "cell_type": "code",
   "execution_count": 22,
   "metadata": {
    "tags": []
   },
   "outputs": [
    {
     "data": {
      "image/png": "[encoded data removed]",
      "text/plain": [
       "<Figure size 640x480 with 1 Axes>"
      ]
     },
     "metadata": {},
     "output_type": "display_data"
    }
   ],
   "source": [
    "plt.scatter(XX, YY)\n",
    "plt.show()"
   ]
  },
  {
   "cell_type": "markdown",
   "metadata": {
    "tags": []
   },
   "source": [
    "## 1.8 Uložení a načtení pole do a ze souboru"
   ]
  },
  {
   "cell_type": "code",
   "execution_count": 23,
   "metadata": {},
   "outputs": [],
   "source": [
    "np.savetxt(\"foo.csv\", xx, delimiter=\",\")"
   ]
  },
  {
   "cell_type": "code",
   "execution_count": 24,
   "metadata": {},
   "outputs": [
    {
     "data": {
      "text/plain": [
       "array(['0.000000000000000000e+00', '3.448275862068965469e-02',\n",
       "       '6.896551724137930939e-02', '1.034482758620689641e-01',\n",
       "       '1.379310344827586188e-01', '1.724137931034482873e-01',\n",
       "       '2.068965517241379282e-01', '2.413793103448275690e-01',\n",
       "       '2.758620689655172376e-01', '3.103448275862069061e-01',\n",
       "       '3.448275862068965747e-01', '3.793103448275861878e-01',\n",
       "       '4.137931034482758563e-01', '4.482758620689655249e-01',\n",
       "       '4.827586206896551380e-01', '5.172413793103448620e-01',\n",
       "       '5.517241379310344751e-01', '5.862068965517240882e-01',\n",
       "       '6.206896551724138122e-01', '6.551724137931034253e-01',\n",
       "       '6.896551724137931494e-01', '7.241379310344827624e-01',\n",
       "       '7.586206896551723755e-01', '7.931034482758620996e-01',\n",
       "       '8.275862068965517127e-01', '8.620689655172413257e-01',\n",
       "       '8.965517241379310498e-01', '9.310344827586206629e-01',\n",
       "       '9.655172413793102759e-01', '1.000000000000000000e+00'],\n",
       "      dtype='<U24')"
      ]
     },
     "metadata": {},
     "output_type": "display_data"
    }
   ],
   "source": [
    "arr = np.loadtxt(\"foo.csv\", delimiter=\",\", dtype=str)\n",
    "display(arr)"
   ]
  },
  {
   "cell_type": "code",
   "execution_count": 25,
   "metadata": {
    "tags": []
   },
   "outputs": [],
   "source": [
    "np.savez_compressed(\"arr\", arr)"
   ]
  },
  {
   "cell_type": "code",
   "execution_count": 26,
   "metadata": {
    "tags": []
   },
   "outputs": [],
   "source": [
    "arr2=np.load(\"arr.npz\")"
   ]
  },
  {
   "cell_type": "markdown",
   "metadata": {},
   "source": [
    "# 1.9 Prohození sloupců"
   ]
  },
  {
   "cell_type": "code",
   "execution_count": 27,
   "metadata": {},
   "outputs": [
    {
     "name": "stdout",
     "output_type": "stream",
     "text": [
      "[[ 78  87  96]\n",
      " [150 168 186]\n",
      " [222 249 276]]\n",
      "[[ 96  87  78]\n",
      " [186 168 150]\n",
      " [276 249 222]]\n"
     ]
    }
   ],
   "source": [
    "print (C)\n",
    "C = C[:, ::-1]\n",
    "print (C)"
   ]
  }
 ],
 "metadata": {
  "kernelspec": {
   "display_name": "Python 3 (ipykernel)",
   "language": "python",
   "name": "python3"
  },
  "language_info": {
   "codemirror_mode": {
    "name": "ipython",
    "version": 3
   },
   "file_extension": ".py",
   "mimetype": "text/x-python",
   "name": "python",
   "nbconvert_exporter": "python",
   "pygments_lexer": "ipython3",
   "version": "3.9.21"
  }
 },
 "nbformat": 4,
 "nbformat_minor": 4
}
